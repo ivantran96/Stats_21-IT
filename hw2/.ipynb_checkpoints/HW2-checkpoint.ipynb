{
 "cells": [
  {
   "cell_type": "markdown",
   "metadata": {},
   "source": [
    "# Stats 21 - HW 2"
   ]
  },
  {
   "cell_type": "markdown",
   "metadata": {},
   "source": [
    "The questions have been entered into this document. You will modify the document by entering your code.\n",
    "\n",
    "Make sure you run the cell so the requested output is visible. Download the finished document as a PDF file. If you are unable to convert it to a PDF, you can download it as an HTML file and then print to PDF.\n",
    "\n",
    "**Homework is an opportunity to practice coding and to practice problem solving. Doing exercises is where you will do most of your learning.**\n",
    "\n",
    "**Copying someone else's solutions takes away your learning opportunities. It is also academic dishonesty.**"
   ]
  },
  {
   "cell_type": "markdown",
   "metadata": {},
   "source": [
    "## Reading\n",
    "\n",
    "- Think Python: Chapters 6 through 10\n",
    "\n",
    "**Reading is important!** Keep up with the reading. I recommend alternating between reading a chapter and then working on exercises.\n",
    "\n",
    "Additional recommended reading:\n",
    "\n",
    "- String methods documentation https://docs.python.org/3/library/stdtypes.html#string-methods"
   ]
  },
  {
   "cell_type": "markdown",
   "metadata": {},
   "source": [
    "## Textbook Chapter 5 Problems"
   ]
  },
  {
   "cell_type": "markdown",
   "metadata": {},
   "source": [
    "## Exercise 5.1"
   ]
  },
  {
   "cell_type": "code",
   "execution_count": 1,
   "metadata": {},
   "outputs": [],
   "source": [
    "import time"
   ]
  },
  {
   "cell_type": "code",
   "execution_count": 2,
   "metadata": {},
   "outputs": [
    {
     "data": {
      "text/plain": [
       "1619039222.3329349"
      ]
     },
     "execution_count": 2,
     "metadata": {},
     "output_type": "execute_result"
    }
   ],
   "source": [
    "time.time()"
   ]
  },
  {
   "cell_type": "markdown",
   "metadata": {},
   "source": [
    "Write a function `now()` that reads the current time and prints out the time of day in hours, minutes, and\n",
    "seconds, plus the number of days since the epoch. The function does not need to return a value, just print output to the screen.\n",
    "\n",
    "The result should look like:\n",
    "\n",
    "\"Current time is: 15:25:47. It has been 18370 days since the epoch.\"\n",
    "\n",
    "Use `int()` to drop decimal values. You do not need to try to find the date with years and months.\n",
    "\n",
    "Tip: build your function incrementally. Start by finding how many days have passed since the epoch. (check your answer at the bottom of the page: https://www.epochconverter.com/seconds-days-since-y0 )  From there find how many hours, etc. Keep in mind the hours will be UTC time."
   ]
  },
  {
   "cell_type": "code",
   "execution_count": 3,
   "metadata": {},
   "outputs": [],
   "source": [
    "def now():\n",
    "    t = int(time.time())\n",
    "    days = str(t // 86400)\n",
    "    x = t % 86400\n",
    "    h = str(x // 3600)\n",
    "    m = str(x // 60 % 60)\n",
    "    s = str(x % 60)\n",
    "    hms = h + \":\" + m + \":\" + s\n",
    "    print(\"Current time is: \" + hms + \". It has been \" + days + \" days since the epoch.\")"
   ]
  },
  {
   "cell_type": "code",
   "execution_count": 4,
   "metadata": {},
   "outputs": [
    {
     "name": "stdout",
     "output_type": "stream",
     "text": [
      "Current time is: 21:7:2. It has been 18738 days since the epoch.\n"
     ]
    }
   ],
   "source": [
    "now()"
   ]
  },
  {
   "cell_type": "markdown",
   "metadata": {},
   "source": [
    "## Textbook Chapter 6 Problems"
   ]
  },
  {
   "cell_type": "markdown",
   "metadata": {},
   "source": [
    "## Exercise 6.2\n",
    "\n",
    "The Ackermann function, A(m, n), is deﬁned:\n",
    "\n",
    "$$\n",
    "A(m, n)= \\left \\{                 \n",
    "    \\begin{array}{ll}\n",
    "        n+1 & \\text{if } m = 0\\\\\n",
    "        A(m-1, 1) & \\text{if } m > 0 \\text{ and } n = 0\\\\\n",
    "        A(m-1, A(m, n-1)) & \\text{if } m > 0 \\text{ and } n > 0\\\\\n",
    "    \\end{array}\n",
    " \\right.\n",
    "$$\n",
    "\n",
    "\n",
    "See http://en.wikipedia.org/wiki/Ackermann_function . Write a function named `ack` that evaluates the Ackermann function. Use your function to evaluate a few test cases. Don't test with $m \\ge 4$ as it grows very fast very quickly."
   ]
  },
  {
   "cell_type": "code",
   "execution_count": 5,
   "metadata": {},
   "outputs": [],
   "source": [
    "def ack(m,n):\n",
    "    if m == 0:\n",
    "        return n + 1\n",
    "    elif n == 0:\n",
    "        return ack(m-1, 1)\n",
    "    else:\n",
    "        return ack(m-1, ack(m, n-1))"
   ]
  },
  {
   "cell_type": "code",
   "execution_count": 6,
   "metadata": {},
   "outputs": [
    {
     "data": {
      "text/plain": [
       "61"
      ]
     },
     "execution_count": 6,
     "metadata": {},
     "output_type": "execute_result"
    }
   ],
   "source": [
    "# test case, should be 61\n",
    "ack(3, 3)"
   ]
  },
  {
   "cell_type": "code",
   "execution_count": 7,
   "metadata": {},
   "outputs": [
    {
     "data": {
      "text/plain": [
       "125"
      ]
     },
     "execution_count": 7,
     "metadata": {},
     "output_type": "execute_result"
    }
   ],
   "source": [
    "# test case, should be 125\n",
    "ack(3, 4)"
   ]
  },
  {
   "cell_type": "markdown",
   "metadata": {},
   "source": [
    "## Exercise 6.4\n",
    "\n",
    "A number, `a`, is a power of `b` if it is divisible by `b` and `a/b` is a power of `b`. Write a function called `is_power` that takes parameters `a` and `b` and returns `True` if a is a power of b. Note: you will have to think about the base case."
   ]
  },
  {
   "cell_type": "code",
   "execution_count": 8,
   "metadata": {},
   "outputs": [],
   "source": [
    "def is_power(a, b):\n",
    "    if (a == b) or (a == 1):\n",
    "        return True\n",
    "    elif a < b:\n",
    "        return False\n",
    "    return is_power(a/b, b)"
   ]
  },
  {
   "cell_type": "code",
   "execution_count": 9,
   "metadata": {},
   "outputs": [
    {
     "data": {
      "text/plain": [
       "True"
      ]
     },
     "execution_count": 9,
     "metadata": {},
     "output_type": "execute_result"
    }
   ],
   "source": [
    "is_power(1024, 2)"
   ]
  },
  {
   "cell_type": "code",
   "execution_count": 10,
   "metadata": {},
   "outputs": [
    {
     "data": {
      "text/plain": [
       "True"
      ]
     },
     "execution_count": 10,
     "metadata": {},
     "output_type": "execute_result"
    }
   ],
   "source": [
    "is_power(6561, 3)"
   ]
  },
  {
   "cell_type": "code",
   "execution_count": 11,
   "metadata": {},
   "outputs": [
    {
     "data": {
      "text/plain": [
       "False"
      ]
     },
     "execution_count": 11,
     "metadata": {},
     "output_type": "execute_result"
    }
   ],
   "source": [
    "is_power(4374, 3)"
   ]
  },
  {
   "cell_type": "code",
   "execution_count": 12,
   "metadata": {},
   "outputs": [
    {
     "data": {
      "text/plain": [
       "False"
      ]
     },
     "execution_count": 12,
     "metadata": {},
     "output_type": "execute_result"
    }
   ],
   "source": [
    "is_power(768, 2)"
   ]
  },
  {
   "cell_type": "markdown",
   "metadata": {},
   "source": [
    "## Exercise 6.5\n",
    "\n",
    "The greatest common divisor (GCD) of a and b is the largest number that divides both of them with no remainder.\n",
    "\n",
    "One way to ﬁnd the GCD of two numbers is based on the observation that if `r` is the remainder when `a` is divided by `b`, then `gcd(a, b) = gcd(b, r)`.\n",
    "\n",
    "As a base case, we can use `gcd(a, 0) = a`.\n",
    "\n",
    "Write a function called `gcd` that takes parameters `a` and `b` and returns their greatest common divisor."
   ]
  },
  {
   "cell_type": "code",
   "execution_count": 13,
   "metadata": {},
   "outputs": [],
   "source": [
    "def gcd(a, b):\n",
    "    if b == 0:\n",
    "        return a\n",
    "    return gcd(b, a%b)"
   ]
  },
  {
   "cell_type": "code",
   "execution_count": 14,
   "metadata": {},
   "outputs": [
    {
     "data": {
      "text/plain": [
       "7"
      ]
     },
     "execution_count": 14,
     "metadata": {},
     "output_type": "execute_result"
    }
   ],
   "source": [
    "gcd(21, 7)"
   ]
  },
  {
   "cell_type": "code",
   "execution_count": 15,
   "metadata": {},
   "outputs": [
    {
     "data": {
      "text/plain": [
       "14"
      ]
     },
     "execution_count": 15,
     "metadata": {},
     "output_type": "execute_result"
    }
   ],
   "source": [
    "gcd(42, 28)"
   ]
  },
  {
   "cell_type": "code",
   "execution_count": 16,
   "metadata": {},
   "outputs": [
    {
     "data": {
      "text/plain": [
       "35"
      ]
     },
     "execution_count": 16,
     "metadata": {},
     "output_type": "execute_result"
    }
   ],
   "source": [
    "gcd(105, 140)"
   ]
  },
  {
   "cell_type": "markdown",
   "metadata": {},
   "source": [
    "## Textbook Chapter 7 Problems"
   ]
  },
  {
   "cell_type": "markdown",
   "metadata": {},
   "source": [
    "## Exercise 7.1\n",
    "\n",
    "Copy the loop from Section 7.5 on square roots and encapsulate it into a function called `mysqrt()` that takes `a` as a parameter. For a starting value `x` use `a/2`. It then iterates through the code to estimate the square root of a value.\n",
    "\n",
    "Write another function called `test_square_root(start, end)` that will print out a table as shown in the textbook."
   ]
  },
  {
   "cell_type": "code",
   "execution_count": 17,
   "metadata": {},
   "outputs": [],
   "source": [
    "import math"
   ]
  },
  {
   "cell_type": "code",
   "execution_count": 18,
   "metadata": {},
   "outputs": [],
   "source": [
    "# write your code here\n",
    "def mysqrt(a):\n",
    "    x = a/2\n",
    "    y = (x + a/x) / 2\n",
    "    while abs(y-x) > 1e-6:\n",
    "        x = y\n",
    "        y = (x + a/x) / 2\n",
    "    return y\n",
    "\n",
    "def test_square_root(start, end):\n",
    "    for a in range(int(start), int(end+1)):\n",
    "        mysq = str(mysqrt(a)).ljust(18)\n",
    "        mathsq = str(math.sqrt(a)).ljust(18)\n",
    "        print(a, mysq, mathsq, abs(mysqrt(a)-math.sqrt(a)))"
   ]
  },
  {
   "cell_type": "code",
   "execution_count": 19,
   "metadata": {
    "scrolled": true,
    "tags": [
     "raises-exception"
    ]
   },
   "outputs": [
    {
     "name": "stdout",
     "output_type": "stream",
     "text": [
      "1 1.000000000000001  1.0                1.1102230246251565e-15\n",
      "2 1.414213562373095  1.4142135623730951 2.220446049250313e-16\n",
      "3 1.7320508075688772 1.7320508075688772 0.0\n",
      "4 2.0                2.0                0.0\n",
      "5 2.23606797749979   2.23606797749979   0.0\n",
      "6 2.4494897427831788 2.449489742783178  8.881784197001252e-16\n",
      "7 2.6457513110646933 2.6457513110645907 1.0258460747536446e-13\n",
      "8 2.82842712474619   2.8284271247461903 4.440892098500626e-16\n",
      "9 3.0                3.0                0.0\n"
     ]
    }
   ],
   "source": [
    "# test code, do not modify:\n",
    "test_square_root(1.0, 9.0)"
   ]
  },
  {
   "cell_type": "code",
   "execution_count": 20,
   "metadata": {
    "tags": [
     "raises-exception"
    ]
   },
   "outputs": [
    {
     "name": "stdout",
     "output_type": "stream",
     "text": [
      "30 5.477225575051661  5.477225575051661  0.0\n",
      "31 5.567764362830022  5.5677643628300215 8.881784197001252e-16\n",
      "32 5.65685424949238   5.656854249492381  8.881784197001252e-16\n",
      "33 5.744562646538029  5.744562646538029  0.0\n",
      "34 5.830951894845301  5.830951894845301  0.0\n",
      "35 5.916079783099616  5.916079783099616  0.0\n"
     ]
    }
   ],
   "source": [
    "test_square_root(30, 35)"
   ]
  },
  {
   "cell_type": "markdown",
   "metadata": {},
   "source": [
    "## Textbook Chapter 9 Problems"
   ]
  },
  {
   "cell_type": "markdown",
   "metadata": {},
   "source": [
    "## Exercise 9.1\n",
    "\n",
    "Download this list of words: http://thinkpython2.com/code/words.txt\n",
    "\n",
    "Write and run a script that reads `words.txt` and prints out only the words with more than 20\n",
    "characters (after stripping whitespace)."
   ]
  },
  {
   "cell_type": "code",
   "execution_count": 21,
   "metadata": {},
   "outputs": [
    {
     "name": "stdout",
     "output_type": "stream",
     "text": [
      "counterdemonstrations\n",
      "\n",
      "hyperaggressivenesses\n",
      "\n",
      "microminiaturizations\n",
      "\n"
     ]
    }
   ],
   "source": [
    "fin = open(\"words.txt\")\n",
    "for line in fin:\n",
    "    if len(line.strip()) > 20:\n",
    "        print(line)"
   ]
  },
  {
   "cell_type": "markdown",
   "metadata": {},
   "source": [
    "## Exercise 9.2\n",
    "\n",
    "Write a function called `has_no_e` that returns True if the word doesn't have the letter e. You can use any of Pythons availble string methods."
   ]
  },
  {
   "cell_type": "code",
   "execution_count": 22,
   "metadata": {},
   "outputs": [],
   "source": [
    "def has_no_e(text):\n",
    "    return 'e' not in text.lower()"
   ]
  },
  {
   "cell_type": "code",
   "execution_count": 23,
   "metadata": {},
   "outputs": [
    {
     "data": {
      "text/plain": [
       "False"
      ]
     },
     "execution_count": 23,
     "metadata": {},
     "output_type": "execute_result"
    }
   ],
   "source": [
    "has_no_e(\"hello\")"
   ]
  },
  {
   "cell_type": "code",
   "execution_count": 24,
   "metadata": {},
   "outputs": [
    {
     "data": {
      "text/plain": [
       "True"
      ]
     },
     "execution_count": 24,
     "metadata": {},
     "output_type": "execute_result"
    }
   ],
   "source": [
    "has_no_e(\"quit\")"
   ]
  },
  {
   "cell_type": "markdown",
   "metadata": {},
   "source": [
    "With your function, write a script. The script should read the list of words (`words.txt`), print out the number of words that do not have the letter 'e' and the proportion of words that do not have the letter 'e'"
   ]
  },
  {
   "cell_type": "code",
   "execution_count": 25,
   "metadata": {},
   "outputs": [
    {
     "name": "stdout",
     "output_type": "stream",
     "text": [
      "37641\n",
      "0.3307383423103621\n"
     ]
    }
   ],
   "source": [
    "fin = open(\"words.txt\")\n",
    "no_e = 0\n",
    "for line in fin:\n",
    "    if has_no_e(line):\n",
    "        no_e += 1\n",
    "print(no_e)\n",
    "print(no_e / len(list(open(\"words.txt\"))))"
   ]
  },
  {
   "cell_type": "markdown",
   "metadata": {},
   "source": [
    "## Textbook Chapter 10 Problems"
   ]
  },
  {
   "cell_type": "markdown",
   "metadata": {},
   "source": [
    "## Exercise 10.1\n",
    "\n",
    "Write a function called `nested_sum` that takes a list of lists of integers and adds up\n",
    "the elements from all of the nested lists. For example:\n",
    "```\n",
    "t = [[1, 2], [3], [4, 5, 6]]\n",
    "nested_sum(t)\n",
    "21\n",
    "```\n",
    "You may want to build the function recursively in case there are many levels of nested lists.\n",
    "\n",
    "You can assume that all elements in any of the nested lists are numeric."
   ]
  },
  {
   "cell_type": "code",
   "execution_count": 26,
   "metadata": {},
   "outputs": [
    {
     "data": {
      "text/plain": [
       "True"
      ]
     },
     "execution_count": 26,
     "metadata": {},
     "output_type": "execute_result"
    }
   ],
   "source": [
    "type([1, 2]) == list"
   ]
  },
  {
   "cell_type": "code",
   "execution_count": 27,
   "metadata": {},
   "outputs": [],
   "source": [
    "def nested_sum(t):\n",
    "    total = 0\n",
    "    for x in t:\n",
    "        if type(x) == list:\n",
    "            total += nested_sum(x)\n",
    "        else:\n",
    "            total += x\n",
    "    return total"
   ]
  },
  {
   "cell_type": "code",
   "execution_count": 28,
   "metadata": {},
   "outputs": [
    {
     "data": {
      "text/plain": [
       "3"
      ]
     },
     "execution_count": 28,
     "metadata": {},
     "output_type": "execute_result"
    }
   ],
   "source": [
    "t = [1, 2]\n",
    "nested_sum(t)"
   ]
  },
  {
   "cell_type": "code",
   "execution_count": 29,
   "metadata": {},
   "outputs": [
    {
     "data": {
      "text/plain": [
       "21"
      ]
     },
     "execution_count": 29,
     "metadata": {},
     "output_type": "execute_result"
    }
   ],
   "source": [
    "t = [[1, 2], [3], [4, 5, 6]]\n",
    "nested_sum(t)"
   ]
  },
  {
   "cell_type": "code",
   "execution_count": 30,
   "metadata": {},
   "outputs": [
    {
     "data": {
      "text/plain": [
       "36"
      ]
     },
     "execution_count": 30,
     "metadata": {},
     "output_type": "execute_result"
    }
   ],
   "source": [
    "x = [[1, 2, [3]], 4, 5, 6, [7], 8]\n",
    "nested_sum(x)"
   ]
  },
  {
   "cell_type": "code",
   "execution_count": 31,
   "metadata": {},
   "outputs": [
    {
     "data": {
      "text/plain": [
       "36"
      ]
     },
     "execution_count": 31,
     "metadata": {},
     "output_type": "execute_result"
    }
   ],
   "source": [
    "t = [[[1, 2, [3]], [4, [5, 6, [7]], 8]]]\n",
    "nested_sum(t)"
   ]
  },
  {
   "cell_type": "markdown",
   "metadata": {},
   "source": [
    "## Exercise 10.2\n",
    "\n",
    "Write a function called `cumsum` that takes a list of numbers and returns the cumulative sum; that is, a new list where the ith element is the sum of the first i + 1 elements from the original list. \n",
    "\n",
    "For example:\n",
    "```\n",
    "t = [1, 2, 3]\n",
    "cumsum(t)\n",
    "[1, 3, 6]\n",
    "```\n",
    "\n",
    "You can assume that all elements in the lists are numeric and the list does not contain nested lists."
   ]
  },
  {
   "cell_type": "code",
   "execution_count": 32,
   "metadata": {},
   "outputs": [],
   "source": [
    "def cumsum(t):\n",
    "    cumal = 0\n",
    "    new_t = []\n",
    "    for i, x in enumerate(t):\n",
    "        cumal += x\n",
    "        new_t.append(cumal)\n",
    "    return new_t"
   ]
  },
  {
   "cell_type": "code",
   "execution_count": 33,
   "metadata": {},
   "outputs": [
    {
     "data": {
      "text/plain": [
       "[1, 3, 6, 10]"
      ]
     },
     "execution_count": 33,
     "metadata": {},
     "output_type": "execute_result"
    }
   ],
   "source": [
    "cumsum([1, 2, 3, 4])"
   ]
  },
  {
   "cell_type": "code",
   "execution_count": 34,
   "metadata": {},
   "outputs": [
    {
     "data": {
      "text/plain": [
       "[0, 1, 3, 6, 10, 15, 21, 28, 36, 45, 55, 66]"
      ]
     },
     "execution_count": 34,
     "metadata": {},
     "output_type": "execute_result"
    }
   ],
   "source": [
    "cumsum(range(12))"
   ]
  },
  {
   "cell_type": "markdown",
   "metadata": {},
   "source": [
    "## Exercise 10.6\n",
    "\n",
    "Two words are anagrams if you can rearrange the letters from one to spell the other. Write a function called `is_anagram` that takes two strings and returns `True` if they are anagrams.\n",
    "\n",
    "You can remove spaces and convert to lowercase using `string.replace(\" \",\"\").lower()`"
   ]
  },
  {
   "cell_type": "code",
   "execution_count": 35,
   "metadata": {},
   "outputs": [
    {
     "data": {
      "text/plain": [
       "True"
      ]
     },
     "execution_count": 35,
     "metadata": {},
     "output_type": "execute_result"
    }
   ],
   "source": [
    "test1 = {\"a\":4, \"b\":3}\n",
    "test2 = {\"b\":3, \"a\":4}\n",
    "test1 == test2"
   ]
  },
  {
   "cell_type": "code",
   "execution_count": 36,
   "metadata": {},
   "outputs": [],
   "source": [
    "def is_anagram(word1, word2):\n",
    "    w1 = word1.replace(\" \",\"\").lower()\n",
    "    w2 = word2.replace(\" \",\"\").lower()\n",
    "    if len(w1) != len(w2):\n",
    "        return False\n",
    "    dic1 = {}\n",
    "    dic2 = {}\n",
    "    for l in w1:\n",
    "        if l in dic1:\n",
    "            dic1[l] += 1\n",
    "        else:\n",
    "            dic1[l] = 1\n",
    "    for l in w2:\n",
    "        if l in dic2:\n",
    "            dic2[l] += 1\n",
    "        else:\n",
    "            dic2[l] = 1\n",
    "    return dic1 == dic2\n",
    "            "
   ]
  },
  {
   "cell_type": "code",
   "execution_count": 37,
   "metadata": {},
   "outputs": [
    {
     "data": {
      "text/plain": [
       "True"
      ]
     },
     "execution_count": 37,
     "metadata": {},
     "output_type": "execute_result"
    }
   ],
   "source": [
    "is_anagram(\"hello\", \"o hell\")"
   ]
  },
  {
   "cell_type": "code",
   "execution_count": 38,
   "metadata": {},
   "outputs": [
    {
     "data": {
      "text/plain": [
       "True"
      ]
     },
     "execution_count": 38,
     "metadata": {},
     "output_type": "execute_result"
    }
   ],
   "source": [
    "is_anagram(\"dormitory\" , \"dirty room\")"
   ]
  },
  {
   "cell_type": "code",
   "execution_count": 39,
   "metadata": {},
   "outputs": [
    {
     "data": {
      "text/plain": [
       "False"
      ]
     },
     "execution_count": 39,
     "metadata": {},
     "output_type": "execute_result"
    }
   ],
   "source": [
    "is_anagram(\"dormitory\" , \"dirty rooms\")"
   ]
  },
  {
   "cell_type": "code",
   "execution_count": 40,
   "metadata": {},
   "outputs": [
    {
     "data": {
      "text/plain": [
       "True"
      ]
     },
     "execution_count": 40,
     "metadata": {},
     "output_type": "execute_result"
    }
   ],
   "source": [
    "is_anagram(\"astronomers\" , \"moon starers\")"
   ]
  },
  {
   "cell_type": "markdown",
   "metadata": {},
   "source": [
    "## Exercise 10.7\n",
    "\n",
    "Write a function called `has_duplicates` that takes a list and returns `True` if there is any element that appears more than once. It should not modify the original list.\n",
    "\n",
    "You can assume that the list will not have nested lists."
   ]
  },
  {
   "cell_type": "code",
   "execution_count": 41,
   "metadata": {},
   "outputs": [],
   "source": [
    "def has_duplicates(t):\n",
    "    return len(set(t)) != len(t)"
   ]
  },
  {
   "cell_type": "code",
   "execution_count": 42,
   "metadata": {},
   "outputs": [
    {
     "data": {
      "text/plain": [
       "False"
      ]
     },
     "execution_count": 42,
     "metadata": {},
     "output_type": "execute_result"
    }
   ],
   "source": [
    "has_duplicates(['a','b','c'])"
   ]
  },
  {
   "cell_type": "code",
   "execution_count": 43,
   "metadata": {},
   "outputs": [
    {
     "data": {
      "text/plain": [
       "True"
      ]
     },
     "execution_count": 43,
     "metadata": {},
     "output_type": "execute_result"
    }
   ],
   "source": [
    "has_duplicates(['a','b','b','c'])"
   ]
  },
  {
   "cell_type": "code",
   "execution_count": 44,
   "metadata": {},
   "outputs": [
    {
     "data": {
      "text/plain": [
       "True"
      ]
     },
     "execution_count": 44,
     "metadata": {},
     "output_type": "execute_result"
    }
   ],
   "source": [
    "has_duplicates(['a','b','c','a'])"
   ]
  },
  {
   "cell_type": "markdown",
   "metadata": {},
   "source": [
    "## Exercise 10.10\n",
    "\n",
    "To check whether a word is in the word list, you could use the in operator, but it would be slow because it searches through the words in order.\n",
    "\n",
    "Because the words are in alphabetical order, we can speed things up with a bisection search (also known as binary search). You start in the middle and check to see whether the word you are looking for comes before the word in the middle of the list. If so, you search the first half of the list the same way (perform a bisection search on the first half). Otherwise you search the second half.\n",
    "\n",
    "Either way, you cut the remaining search space in half. If the word list has 113,809 words, it will\n",
    "take about 17 steps to find the word or conclude that it's not there. \n",
    "\n",
    "Write a function called `in_bisect` that takes a sorted list and a target word and will returns `True` if the word is in the list and `False` if it's not.\n",
    "\n",
    "Hint: it's a recursive function."
   ]
  },
  {
   "cell_type": "code",
   "execution_count": 45,
   "metadata": {},
   "outputs": [],
   "source": [
    "# Use this function. No need to rewrite it.\n",
    "def make_word_list():\n",
    "    \"\"\"Reads lines from a file and builds a list.\"\"\"\n",
    "    t = []\n",
    "    fin = open('words.txt')\n",
    "    for line in fin:\n",
    "        word = line.strip()\n",
    "        t.append(word)\n",
    "    return t\n",
    "\n",
    "t = make_word_list()"
   ]
  },
  {
   "cell_type": "code",
   "execution_count": 46,
   "metadata": {},
   "outputs": [
    {
     "data": {
      "text/plain": [
       "0"
      ]
     },
     "execution_count": 46,
     "metadata": {},
     "output_type": "execute_result"
    }
   ],
   "source": [
    "1 // 2"
   ]
  },
  {
   "cell_type": "code",
   "execution_count": 47,
   "metadata": {},
   "outputs": [],
   "source": [
    "# define this function\n",
    "def in_bisect(word_list, word):\n",
    "    m = len(word_list) // 2\n",
    "    if len(word_list) == 0:\n",
    "        return False\n",
    "    elif word < word_list[m]:\n",
    "        return in_bisect(word_list[:m], word)\n",
    "    elif word > word_list[m]:\n",
    "        return in_bisect(word_list[m+1:], word)\n",
    "    elif word == word_list[m]:\n",
    "        return True\n",
    "    return False"
   ]
  },
  {
   "cell_type": "code",
   "execution_count": 48,
   "metadata": {},
   "outputs": [
    {
     "data": {
      "text/plain": [
       "True"
      ]
     },
     "execution_count": 48,
     "metadata": {},
     "output_type": "execute_result"
    }
   ],
   "source": [
    "in_bisect(t, \"hello\")"
   ]
  },
  {
   "cell_type": "code",
   "execution_count": 49,
   "metadata": {},
   "outputs": [
    {
     "data": {
      "text/plain": [
       "False"
      ]
     },
     "execution_count": 49,
     "metadata": {},
     "output_type": "execute_result"
    }
   ],
   "source": [
    "in_bisect(t, \"xyz\")"
   ]
  },
  {
   "cell_type": "markdown",
   "metadata": {},
   "source": [
    "## Exercise 10.11\n",
    "\n",
    "Two words are a \"reverse pair\" if each is the reverse of the other.\n",
    "\n",
    "Now that you have the `in_bisect` search, write a script that ﬁnds all the reverse pairs in the word list that are 6 letters or longer. (It takes a little bit of time to run.)"
   ]
  },
  {
   "cell_type": "code",
   "execution_count": 50,
   "metadata": {},
   "outputs": [],
   "source": [
    "rev_pair = []\n",
    "for word in t:\n",
    "    if (len(word) >= 6) and (in_bisect(t, word[::-1])):\n",
    "        rev_pair.append(word)"
   ]
  },
  {
   "cell_type": "code",
   "execution_count": 51,
   "metadata": {},
   "outputs": [
    {
     "data": {
      "text/plain": [
       "['agenes',\n",
       " 'animal',\n",
       " 'animes',\n",
       " 'degami',\n",
       " 'deified',\n",
       " 'deifier',\n",
       " 'deliver',\n",
       " 'denier',\n",
       " 'denies',\n",
       " 'denned',\n",
       " 'depots',\n",
       " 'derats',\n",
       " 'dessert',\n",
       " 'desserts',\n",
       " 'dewans',\n",
       " 'dialer',\n",
       " 'diaper',\n",
       " 'dormin',\n",
       " 'drawer',\n",
       " 'elides',\n",
       " 'eviler',\n",
       " 'gelder',\n",
       " 'halalah',\n",
       " 'hallah',\n",
       " 'imaged',\n",
       " 'lamina',\n",
       " 'levins',\n",
       " 'looter',\n",
       " 'marram',\n",
       " 'nimrod',\n",
       " 'pupils',\n",
       " 'recaps',\n",
       " 'redder',\n",
       " 'redips',\n",
       " 'redleg',\n",
       " 'redraw',\n",
       " 'redrawer',\n",
       " 'reflet',\n",
       " 'reflow',\n",
       " 'reified',\n",
       " 'reifier',\n",
       " 'reined',\n",
       " 'reknit',\n",
       " 'reknits',\n",
       " 'relaid',\n",
       " 'relive',\n",
       " 'remeet',\n",
       " 'rennet',\n",
       " 'repaid',\n",
       " 'repaper',\n",
       " 'repins',\n",
       " 'retool',\n",
       " 'reviled',\n",
       " 'reviver',\n",
       " 'reward',\n",
       " 'rewarder',\n",
       " 'rotator',\n",
       " 'sallets',\n",
       " 'scares',\n",
       " 'secret',\n",
       " 'sedile',\n",
       " 'seined',\n",
       " 'selahs',\n",
       " 'selles',\n",
       " 'sememes',\n",
       " 'semina',\n",
       " 'senega',\n",
       " 'seracs',\n",
       " 'shales',\n",
       " 'skeets',\n",
       " 'sleeps',\n",
       " 'sleets',\n",
       " 'slipup',\n",
       " 'sloops',\n",
       " 'snawed',\n",
       " 'sniper',\n",
       " 'snivel',\n",
       " 'snoops',\n",
       " 'spacer',\n",
       " 'speels',\n",
       " 'spider',\n",
       " 'spirts',\n",
       " 'spools',\n",
       " 'spoons',\n",
       " 'sports',\n",
       " 'sprits',\n",
       " 'stared',\n",
       " 'steeks',\n",
       " 'steels',\n",
       " 'stellas',\n",
       " 'stinker',\n",
       " 'stirps',\n",
       " 'stoped',\n",
       " 'stressed',\n",
       " 'strips',\n",
       " 'strops',\n",
       " 'struts',\n",
       " 'sturts',\n",
       " 'teemer',\n",
       " 'telfer',\n",
       " 'tenner',\n",
       " 'terces',\n",
       " 'terret',\n",
       " 'tinker',\n",
       " 'tressed',\n",
       " 'warder',\n",
       " 'wolfer']"
      ]
     },
     "execution_count": 51,
     "metadata": {},
     "output_type": "execute_result"
    }
   ],
   "source": [
    "rev_pair"
   ]
  }
 ],
 "metadata": {
  "kernelspec": {
   "display_name": "Python 3",
   "language": "python",
   "name": "python3"
  },
  "language_info": {
   "codemirror_mode": {
    "name": "ipython",
    "version": 3
   },
   "file_extension": ".py",
   "mimetype": "text/x-python",
   "name": "python",
   "nbconvert_exporter": "python",
   "pygments_lexer": "ipython3",
   "version": "3.9.1"
  }
 },
 "nbformat": 4,
 "nbformat_minor": 4
}
